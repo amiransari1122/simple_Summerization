{
  "nbformat": 4,
  "nbformat_minor": 0,
  "metadata": {
    "colab": {
      "name": "Frequency_based summarization.ipynb",
      "provenance": []
    },
    "kernelspec": {
      "name": "python3",
      "display_name": "Python 3"
    },
    "language_info": {
      "name": "python"
    }
  },
  "cells": [
    {
      "cell_type": "code",
      "metadata": {
        "id": "FCEuRs59zoWx"
      },
      "source": [
        "import re # relugar expression\n",
        "import nltk # natural language toolkit\n",
        "import string\n",
        "from IPython.core.display import HTML\n",
        "from termcolor import colored"
      ],
      "execution_count": null,
      "outputs": []
    },
    {
      "cell_type": "code",
      "metadata": {
        "id": "si2-RV4Uzy1d"
      },
      "source": [
        "def summarizer(text1,n):\n",
        "\n",
        "  text=text1.lower()\n",
        "  # tk1=nltk.sent_tokenize(text)\n",
        "  tk1=nltk.word_tokenize(text) #just remove spaces and get other strings\n",
        "  stopwords = nltk.corpus.stopwords.words('english')\n",
        "  puncs=string.punctuation\n",
        "\n",
        "  #tokenization step\n",
        "  words=[]\n",
        "  for word in tk1:\n",
        "    if word not in stopwords and word not in puncs:\n",
        "      words.append(word)\n",
        "\n",
        "    #weighted tokens\n",
        "  word_frequency = nltk.FreqDist(words)\n",
        "  highest_frequency = max(word_frequency.values())\n",
        "\n",
        "  for key in word_frequency.keys():\n",
        "    word_frequency[key]=word_frequency[key]/highest_frequency\n",
        "\n",
        "\n",
        "  #score the sentences\n",
        "  sentence_list = nltk.sent_tokenize(text1)\n",
        "  scores={}\n",
        "  for sentence in sentence_list: #for each sentence in orginal text\n",
        "    for w in nltk.word_tokenize(sentence.lower()): # for each word in this sentence\n",
        "      \n",
        "      if sentence not in scores.keys():\n",
        "        scores[sentence]=word_frequency[w]\n",
        "      else:\n",
        "        scores[sentence]+=word_frequency[w]\n",
        "  sorted_scores=sorted(scores, key=scores.get,reverse=True)\n",
        "\n",
        "  summary=' '.join(sorted_scores[:n])\n",
        "\n",
        "  text = ''\n",
        "\n",
        "  for sentence in sentence_list:\n",
        "    \n",
        "    if sentence in summary:\n",
        "      text += ' '+ sentence.replace(sentence, f\"<mark>{sentence}</mark>\")\n",
        "    else:\n",
        "      text += sentence\n",
        "\n",
        "  display(HTML(f\"\"\"{text}\"\"\"))\n"
      ],
      "execution_count": null,
      "outputs": []
    },
    {
      "cell_type": "code",
      "metadata": {
        "id": "bPVlLCEfL62U"
      },
      "source": [
        "t=\"\"\"Artificial intelligence is human like intelligence. \n",
        "                   It is the study of intelligent artificial agents. \n",
        "                   Science and engineering to produce intelligent machines. \n",
        "                   Solve problems and have intelligence. \n",
        "                   Related to intelligent behavior. \n",
        "                   Developing of reasoning machines. \n",
        "                   Learn from mistakes and successes. \n",
        "                   Artificial intelligence is related to reasoning in everyday situations.\"\"\"\n"
      ],
      "execution_count": null,
      "outputs": []
    },
    {
      "cell_type": "code",
      "metadata": {
        "colab": {
          "base_uri": "https://localhost:8080/",
          "height": 52
        },
        "id": "gHfTihvuUsuE",
        "outputId": "c40b6ec1-458f-43a4-f603-3fa0f360260a"
      },
      "source": [
        "summarizer(t,4)\n"
      ],
      "execution_count": null,
      "outputs": [
        {
          "output_type": "display_data",
          "data": {
            "text/html": [
              " <mark>Artificial intelligence is human like intelligence.</mark> <mark>It is the study of intelligent artificial agents.</mark> <mark>Science and engineering to produce intelligent machines.</mark>Solve problems and have intelligence.Related to intelligent behavior.Developing of reasoning machines.Learn from mistakes and successes. <mark>Artificial intelligence is related to reasoning in everyday situations.</mark>"
            ],
            "text/plain": [
              "<IPython.core.display.HTML object>"
            ]
          },
          "metadata": {}
        }
      ]
    }
  ]
}